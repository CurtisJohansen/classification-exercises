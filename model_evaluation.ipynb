{
 "cells": [
  {
   "cell_type": "code",
   "execution_count": 3,
   "id": "35d105e8",
   "metadata": {},
   "outputs": [],
   "source": [
    "import pandas as pd\n",
    "import numpy as np\n",
    "import os\n",
    "\n",
    "import seaborn as sns\n",
    "import matplotlib.pyplot as plt\n",
    "\n",
    "import acquire\n",
    "from scipy import stats\n"
   ]
  },
  {
   "cell_type": "code",
   "execution_count": 4,
   "id": "2766a921",
   "metadata": {},
   "outputs": [],
   "source": [
    "\n",
    "# Classification Model Evaluation Exercises\n"
   ]
  },
  {
   "cell_type": "code",
   "execution_count": null,
   "id": "2292516a",
   "metadata": {},
   "outputs": [],
   "source": [
    "# Exercise 2"
   ]
  },
  {
   "cell_type": "code",
   "execution_count": 5,
   "id": "8e385a33",
   "metadata": {},
   "outputs": [],
   "source": [
    "\n",
    "# Given the following confusion matrix, evaluate (by hand) the model's performance.\n",
    "\n",
    "#  |               | pred dog   | pred cat   |\n",
    "#  |:------------  |-----------:|-----------:|\n",
    "#  | actual dog    |         46 |         7  |\n",
    "#  | actual cat    |         13 |         34 |\n"
   ]
  },
  {
   "cell_type": "code",
   "execution_count": 6,
   "id": "ca3bb31e",
   "metadata": {},
   "outputs": [],
   "source": [
    "# Positive: dog\n",
    "\n",
    "# True Positive: predicted it is dog and it is a dog\n",
    "# False Positive: predicted it is dog, but it is a cat\n",
    "# False Negative: predicted it is cat, but it is a dog\n",
    "# True Negative: predicted it is cat , and it is a cat\n"
   ]
  },
  {
   "cell_type": "code",
   "execution_count": 7,
   "id": "2c7047f6",
   "metadata": {},
   "outputs": [],
   "source": [
    "\n",
    "# In the context of this problem, what is a false positive?   False Positive: predicted it is dog, but it is a cat\n",
    "\n",
    "# In the context of this problem, what is a false negative?   False Negative: predicted it is cat, but it is a dog\n",
    "\n",
    "# How would you describe this model?   It is a confusion matrix - a cross-tabulation of our model's predictions \n",
    "#                                      against the actual values.\n"
   ]
  },
  {
   "cell_type": "code",
   "execution_count": 15,
   "id": "8ac10957",
   "metadata": {},
   "outputs": [],
   "source": [
    "# True Positive: predicted it is dog and it is a dog\n",
    "\n",
    "tp = 46 "
   ]
  },
  {
   "cell_type": "code",
   "execution_count": 16,
   "id": "5fd9b259",
   "metadata": {},
   "outputs": [],
   "source": [
    "# False Positive: predicted it is dog, but it is a cat\n",
    "\n",
    "fp = 7"
   ]
  },
  {
   "cell_type": "code",
   "execution_count": 17,
   "id": "3265b15d",
   "metadata": {},
   "outputs": [],
   "source": [
    "# False Negative: predicted it is cat, but it is a dog\n",
    "\n",
    "fn = 13"
   ]
  },
  {
   "cell_type": "code",
   "execution_count": 18,
   "id": "1b2ca7cb",
   "metadata": {},
   "outputs": [],
   "source": [
    "# True Negative: predicted it is cat , and it is a cat\n",
    "\n",
    "tn = 34"
   ]
  },
  {
   "cell_type": "code",
   "execution_count": 19,
   "id": "363049f9",
   "metadata": {},
   "outputs": [
    {
     "data": {
      "text/plain": [
       "0.8"
      ]
     },
     "execution_count": 19,
     "metadata": {},
     "output_type": "execute_result"
    }
   ],
   "source": [
    "# accuracy\n",
    "\n",
    "accuracy = (tp + tn) / (tp + tn + fp + fn)\n",
    "accuracy"
   ]
  },
  {
   "cell_type": "code",
   "execution_count": 20,
   "id": "8d64f7b8",
   "metadata": {},
   "outputs": [
    {
     "data": {
      "text/plain": [
       "0.8679245283018868"
      ]
     },
     "execution_count": 20,
     "metadata": {},
     "output_type": "execute_result"
    }
   ],
   "source": [
    "# precision\n",
    "\n",
    "precision = tp / (tp + fp)\n",
    "precision"
   ]
  },
  {
   "cell_type": "code",
   "execution_count": 21,
   "id": "281d0f13",
   "metadata": {},
   "outputs": [
    {
     "data": {
      "text/plain": [
       "0.7796610169491526"
      ]
     },
     "execution_count": 21,
     "metadata": {},
     "output_type": "execute_result"
    }
   ],
   "source": [
    "# recall\n",
    "\n",
    "recall = tp / (tp + fn)\n",
    "recall"
   ]
  },
  {
   "cell_type": "code",
   "execution_count": null,
   "id": "f6f04df1",
   "metadata": {},
   "outputs": [],
   "source": []
  },
  {
   "cell_type": "code",
   "execution_count": null,
   "id": "2b7e3535",
   "metadata": {},
   "outputs": [],
   "source": [
    "# Exercise 3"
   ]
  },
  {
   "cell_type": "code",
   "execution_count": null,
   "id": "a2b8f81d",
   "metadata": {},
   "outputs": [],
   "source": [
    "# You are working as a datascientist working for Codeup Cody Creator (C3 for short),\n",
    "# a rubber-duck manufacturing plant.\n",
    "\n",
    "# Unfortunately, some of the rubber ducks that are produced will have defects. Your team has built several models\n",
    "# that try to predict those defects, and the data from their predictions can be found here.\n",
    "\n",
    "# Use the predictions dataset and pandas to help answer the following questions:"
   ]
  },
  {
   "cell_type": "code",
   "execution_count": null,
   "id": "7c92f205",
   "metadata": {},
   "outputs": [],
   "source": [
    "# An internal team wants to investigate the cause of the manufacturing defects. \n",
    "# They tell you that they want to identify as many of the ducks that have a defect as possible. \n",
    "\n",
    "# Which evaluation metric would be appropriate here? Recall\n",
    "\n",
    "# Which model would be the best fit for this use case? Recall\n"
   ]
  },
  {
   "cell_type": "code",
   "execution_count": 22,
   "id": "1a0adc72",
   "metadata": {},
   "outputs": [],
   "source": [
    "# load data\n",
    "\n",
    "c3 = pd.read_csv('C3.csv')"
   ]
  },
  {
   "cell_type": "code",
   "execution_count": 23,
   "id": "a6a720c8",
   "metadata": {},
   "outputs": [
    {
     "data": {
      "text/html": [
       "<div>\n",
       "<style scoped>\n",
       "    .dataframe tbody tr th:only-of-type {\n",
       "        vertical-align: middle;\n",
       "    }\n",
       "\n",
       "    .dataframe tbody tr th {\n",
       "        vertical-align: top;\n",
       "    }\n",
       "\n",
       "    .dataframe thead th {\n",
       "        text-align: right;\n",
       "    }\n",
       "</style>\n",
       "<table border=\"1\" class=\"dataframe\">\n",
       "  <thead>\n",
       "    <tr style=\"text-align: right;\">\n",
       "      <th></th>\n",
       "      <th>actual</th>\n",
       "      <th>model1</th>\n",
       "      <th>model2</th>\n",
       "      <th>model3</th>\n",
       "    </tr>\n",
       "  </thead>\n",
       "  <tbody>\n",
       "    <tr>\n",
       "      <th>0</th>\n",
       "      <td>No Defect</td>\n",
       "      <td>No Defect</td>\n",
       "      <td>Defect</td>\n",
       "      <td>No Defect</td>\n",
       "    </tr>\n",
       "    <tr>\n",
       "      <th>1</th>\n",
       "      <td>No Defect</td>\n",
       "      <td>No Defect</td>\n",
       "      <td>Defect</td>\n",
       "      <td>Defect</td>\n",
       "    </tr>\n",
       "    <tr>\n",
       "      <th>2</th>\n",
       "      <td>No Defect</td>\n",
       "      <td>No Defect</td>\n",
       "      <td>Defect</td>\n",
       "      <td>No Defect</td>\n",
       "    </tr>\n",
       "    <tr>\n",
       "      <th>3</th>\n",
       "      <td>No Defect</td>\n",
       "      <td>Defect</td>\n",
       "      <td>Defect</td>\n",
       "      <td>Defect</td>\n",
       "    </tr>\n",
       "    <tr>\n",
       "      <th>4</th>\n",
       "      <td>No Defect</td>\n",
       "      <td>No Defect</td>\n",
       "      <td>Defect</td>\n",
       "      <td>No Defect</td>\n",
       "    </tr>\n",
       "  </tbody>\n",
       "</table>\n",
       "</div>"
      ],
      "text/plain": [
       "      actual     model1  model2     model3\n",
       "0  No Defect  No Defect  Defect  No Defect\n",
       "1  No Defect  No Defect  Defect     Defect\n",
       "2  No Defect  No Defect  Defect  No Defect\n",
       "3  No Defect     Defect  Defect     Defect\n",
       "4  No Defect  No Defect  Defect  No Defect"
      ]
     },
     "execution_count": 23,
     "metadata": {},
     "output_type": "execute_result"
    }
   ],
   "source": [
    "# look at the data\n",
    "\n",
    "c3.head()"
   ]
  },
  {
   "cell_type": "code",
   "execution_count": 25,
   "id": "ebbc7d82",
   "metadata": {},
   "outputs": [
    {
     "name": "stdout",
     "output_type": "stream",
     "text": [
      "<class 'pandas.core.frame.DataFrame'>\n",
      "RangeIndex: 200 entries, 0 to 199\n",
      "Data columns (total 4 columns):\n",
      " #   Column  Non-Null Count  Dtype \n",
      "---  ------  --------------  ----- \n",
      " 0   actual  200 non-null    object\n",
      " 1   model1  200 non-null    object\n",
      " 2   model2  200 non-null    object\n",
      " 3   model3  200 non-null    object\n",
      "dtypes: object(4)\n",
      "memory usage: 6.4+ KB\n"
     ]
    }
   ],
   "source": [
    "c3.info()"
   ]
  },
  {
   "cell_type": "code",
   "execution_count": 26,
   "id": "8cc30c83",
   "metadata": {},
   "outputs": [
    {
     "data": {
      "text/plain": [
       "No Defect    184\n",
       "Defect        16\n",
       "Name: actual, dtype: int64"
      ]
     },
     "execution_count": 26,
     "metadata": {},
     "output_type": "execute_result"
    }
   ],
   "source": [
    "c3.actual.value_counts()"
   ]
  },
  {
   "cell_type": "code",
   "execution_count": 34,
   "id": "affeeb65",
   "metadata": {},
   "outputs": [
    {
     "data": {
      "text/plain": [
       "No Defect    190\n",
       "Defect        10\n",
       "Name: model1, dtype: int64"
      ]
     },
     "execution_count": 34,
     "metadata": {},
     "output_type": "execute_result"
    }
   ],
   "source": [
    "c3.model1.value_counts()"
   ]
  },
  {
   "cell_type": "code",
   "execution_count": 35,
   "id": "8861a26d",
   "metadata": {},
   "outputs": [
    {
     "data": {
      "text/plain": [
       "No Defect    110\n",
       "Defect        90\n",
       "Name: model2, dtype: int64"
      ]
     },
     "execution_count": 35,
     "metadata": {},
     "output_type": "execute_result"
    }
   ],
   "source": [
    "c3.model2.value_counts()"
   ]
  },
  {
   "cell_type": "code",
   "execution_count": 36,
   "id": "d35bd718",
   "metadata": {},
   "outputs": [
    {
     "data": {
      "text/plain": [
       "No Defect    101\n",
       "Defect        99\n",
       "Name: model3, dtype: int64"
      ]
     },
     "execution_count": 36,
     "metadata": {},
     "output_type": "execute_result"
    }
   ],
   "source": [
    "c3.model3.value_counts()"
   ]
  },
  {
   "cell_type": "code",
   "execution_count": 30,
   "id": "6f16a980",
   "metadata": {},
   "outputs": [],
   "source": [
    "# create a new column called 'baseline_prediction'\n",
    "# which is the most frequent label\n",
    "\n",
    "c3['baseline_prediction'] = 'No Defect'"
   ]
  },
  {
   "cell_type": "code",
   "execution_count": 31,
   "id": "d924f576",
   "metadata": {},
   "outputs": [
    {
     "data": {
      "text/html": [
       "<div>\n",
       "<style scoped>\n",
       "    .dataframe tbody tr th:only-of-type {\n",
       "        vertical-align: middle;\n",
       "    }\n",
       "\n",
       "    .dataframe tbody tr th {\n",
       "        vertical-align: top;\n",
       "    }\n",
       "\n",
       "    .dataframe thead th {\n",
       "        text-align: right;\n",
       "    }\n",
       "</style>\n",
       "<table border=\"1\" class=\"dataframe\">\n",
       "  <thead>\n",
       "    <tr style=\"text-align: right;\">\n",
       "      <th></th>\n",
       "      <th>actual</th>\n",
       "      <th>model1</th>\n",
       "      <th>model2</th>\n",
       "      <th>model3</th>\n",
       "      <th>baseline_prediction</th>\n",
       "    </tr>\n",
       "  </thead>\n",
       "  <tbody>\n",
       "    <tr>\n",
       "      <th>0</th>\n",
       "      <td>No Defect</td>\n",
       "      <td>No Defect</td>\n",
       "      <td>Defect</td>\n",
       "      <td>No Defect</td>\n",
       "      <td>No Defect</td>\n",
       "    </tr>\n",
       "    <tr>\n",
       "      <th>1</th>\n",
       "      <td>No Defect</td>\n",
       "      <td>No Defect</td>\n",
       "      <td>Defect</td>\n",
       "      <td>Defect</td>\n",
       "      <td>No Defect</td>\n",
       "    </tr>\n",
       "    <tr>\n",
       "      <th>2</th>\n",
       "      <td>No Defect</td>\n",
       "      <td>No Defect</td>\n",
       "      <td>Defect</td>\n",
       "      <td>No Defect</td>\n",
       "      <td>No Defect</td>\n",
       "    </tr>\n",
       "    <tr>\n",
       "      <th>3</th>\n",
       "      <td>No Defect</td>\n",
       "      <td>Defect</td>\n",
       "      <td>Defect</td>\n",
       "      <td>Defect</td>\n",
       "      <td>No Defect</td>\n",
       "    </tr>\n",
       "    <tr>\n",
       "      <th>4</th>\n",
       "      <td>No Defect</td>\n",
       "      <td>No Defect</td>\n",
       "      <td>Defect</td>\n",
       "      <td>No Defect</td>\n",
       "      <td>No Defect</td>\n",
       "    </tr>\n",
       "  </tbody>\n",
       "</table>\n",
       "</div>"
      ],
      "text/plain": [
       "      actual     model1  model2     model3 baseline_prediction\n",
       "0  No Defect  No Defect  Defect  No Defect           No Defect\n",
       "1  No Defect  No Defect  Defect     Defect           No Defect\n",
       "2  No Defect  No Defect  Defect  No Defect           No Defect\n",
       "3  No Defect     Defect  Defect     Defect           No Defect\n",
       "4  No Defect  No Defect  Defect  No Defect           No Defect"
      ]
     },
     "execution_count": 31,
     "metadata": {},
     "output_type": "execute_result"
    }
   ],
   "source": [
    "c3.head()"
   ]
  },
  {
   "cell_type": "code",
   "execution_count": 40,
   "id": "3a22eab6",
   "metadata": {},
   "outputs": [],
   "source": [
    "# make subset \n",
    "\n",
    "subset = c3[c3.actual == 'Defect']"
   ]
  },
  {
   "cell_type": "code",
   "execution_count": 41,
   "id": "90d3ad42",
   "metadata": {},
   "outputs": [
    {
     "data": {
      "text/html": [
       "<div>\n",
       "<style scoped>\n",
       "    .dataframe tbody tr th:only-of-type {\n",
       "        vertical-align: middle;\n",
       "    }\n",
       "\n",
       "    .dataframe tbody tr th {\n",
       "        vertical-align: top;\n",
       "    }\n",
       "\n",
       "    .dataframe thead th {\n",
       "        text-align: right;\n",
       "    }\n",
       "</style>\n",
       "<table border=\"1\" class=\"dataframe\">\n",
       "  <thead>\n",
       "    <tr style=\"text-align: right;\">\n",
       "      <th></th>\n",
       "      <th>actual</th>\n",
       "      <th>model1</th>\n",
       "      <th>model2</th>\n",
       "      <th>model3</th>\n",
       "      <th>baseline_prediction</th>\n",
       "    </tr>\n",
       "  </thead>\n",
       "  <tbody>\n",
       "    <tr>\n",
       "      <th>13</th>\n",
       "      <td>Defect</td>\n",
       "      <td>No Defect</td>\n",
       "      <td>Defect</td>\n",
       "      <td>Defect</td>\n",
       "      <td>No Defect</td>\n",
       "    </tr>\n",
       "    <tr>\n",
       "      <th>30</th>\n",
       "      <td>Defect</td>\n",
       "      <td>Defect</td>\n",
       "      <td>No Defect</td>\n",
       "      <td>Defect</td>\n",
       "      <td>No Defect</td>\n",
       "    </tr>\n",
       "    <tr>\n",
       "      <th>65</th>\n",
       "      <td>Defect</td>\n",
       "      <td>Defect</td>\n",
       "      <td>Defect</td>\n",
       "      <td>Defect</td>\n",
       "      <td>No Defect</td>\n",
       "    </tr>\n",
       "    <tr>\n",
       "      <th>70</th>\n",
       "      <td>Defect</td>\n",
       "      <td>Defect</td>\n",
       "      <td>Defect</td>\n",
       "      <td>Defect</td>\n",
       "      <td>No Defect</td>\n",
       "    </tr>\n",
       "    <tr>\n",
       "      <th>74</th>\n",
       "      <td>Defect</td>\n",
       "      <td>No Defect</td>\n",
       "      <td>No Defect</td>\n",
       "      <td>Defect</td>\n",
       "      <td>No Defect</td>\n",
       "    </tr>\n",
       "  </tbody>\n",
       "</table>\n",
       "</div>"
      ],
      "text/plain": [
       "    actual     model1     model2  model3 baseline_prediction\n",
       "13  Defect  No Defect     Defect  Defect           No Defect\n",
       "30  Defect     Defect  No Defect  Defect           No Defect\n",
       "65  Defect     Defect     Defect  Defect           No Defect\n",
       "70  Defect     Defect     Defect  Defect           No Defect\n",
       "74  Defect  No Defect  No Defect  Defect           No Defect"
      ]
     },
     "execution_count": 41,
     "metadata": {},
     "output_type": "execute_result"
    }
   ],
   "source": [
    "subset.head()"
   ]
  },
  {
   "cell_type": "code",
   "execution_count": 45,
   "id": "53f663a4",
   "metadata": {},
   "outputs": [
    {
     "data": {
      "text/plain": [
       "0.0"
      ]
     },
     "execution_count": 45,
     "metadata": {},
     "output_type": "execute_result"
    }
   ],
   "source": [
    "# baseline\n",
    "\n",
    "(subset.actual == subset.baseline_prediction).mean()"
   ]
  },
  {
   "cell_type": "code",
   "execution_count": 42,
   "id": "32b7c584",
   "metadata": {},
   "outputs": [
    {
     "data": {
      "text/plain": [
       "0.5"
      ]
     },
     "execution_count": 42,
     "metadata": {},
     "output_type": "execute_result"
    }
   ],
   "source": [
    "# Recall model1 \n",
    "\n",
    "(subset.actual == subset.model1).mean()"
   ]
  },
  {
   "cell_type": "code",
   "execution_count": 43,
   "id": "999cc720",
   "metadata": {},
   "outputs": [
    {
     "data": {
      "text/plain": [
       "0.5625"
      ]
     },
     "execution_count": 43,
     "metadata": {},
     "output_type": "execute_result"
    }
   ],
   "source": [
    "# Recall model2\n",
    "\n",
    "(subset.actual == subset.model2).mean()"
   ]
  },
  {
   "cell_type": "code",
   "execution_count": 44,
   "id": "bfaa3ac3",
   "metadata": {},
   "outputs": [
    {
     "data": {
      "text/plain": [
       "0.8125"
      ]
     },
     "execution_count": 44,
     "metadata": {},
     "output_type": "execute_result"
    }
   ],
   "source": [
    "# Recall model3\n",
    "\n",
    "(subset.actual == subset.model3).mean()"
   ]
  },
  {
   "cell_type": "code",
   "execution_count": null,
   "id": "506372c1",
   "metadata": {},
   "outputs": [],
   "source": [
    "# model3 has the highest recall score \n"
   ]
  },
  {
   "cell_type": "code",
   "execution_count": null,
   "id": "7ae3d54c",
   "metadata": {},
   "outputs": [],
   "source": []
  },
  {
   "cell_type": "code",
   "execution_count": null,
   "id": "b8b6bc4c",
   "metadata": {},
   "outputs": [],
   "source": [
    "\n",
    "# Recently several stories in the local news have come out highlighting customers who received a rubber duck with a\n",
    "# defect, and portraying C3 in a bad light. The PR team has decided to launch a program that gives customers with a\n",
    "# defective duck a vacation to Hawaii. They need you to predict which ducks will have defects, but tell you the \n",
    "# really don't want to accidentally give out a vacation package when the duck really doesn't have a defect. \n",
    "\n",
    "# Which evaluation metric would be appropriate here? Precision\n",
    "\n",
    "# Which model would be the best fit for this use case? Precision\n"
   ]
  },
  {
   "cell_type": "code",
   "execution_count": 46,
   "id": "e8f39bcc",
   "metadata": {},
   "outputs": [
    {
     "data": {
      "text/plain": [
       "0.8"
      ]
     },
     "execution_count": 46,
     "metadata": {},
     "output_type": "execute_result"
    }
   ],
   "source": [
    "subset = c3[c3.model1 == 'Defect']\n",
    "(subset.actual == subset.model1).mean()"
   ]
  },
  {
   "cell_type": "code",
   "execution_count": 47,
   "id": "5b4638b5",
   "metadata": {},
   "outputs": [
    {
     "data": {
      "text/plain": [
       "0.1"
      ]
     },
     "execution_count": 47,
     "metadata": {},
     "output_type": "execute_result"
    }
   ],
   "source": [
    "subset = c3[c3.model2 == 'Defect']\n",
    "(subset.actual == subset.model2).mean()"
   ]
  },
  {
   "cell_type": "code",
   "execution_count": 48,
   "id": "0b5615ab",
   "metadata": {},
   "outputs": [
    {
     "data": {
      "text/plain": [
       "0.13131313131313133"
      ]
     },
     "execution_count": 48,
     "metadata": {},
     "output_type": "execute_result"
    }
   ],
   "source": [
    "subset = c3[c3.model3 == 'Defect']\n",
    "(subset.actual == subset.model3).mean()"
   ]
  },
  {
   "cell_type": "code",
   "execution_count": null,
   "id": "4739a5c5",
   "metadata": {},
   "outputs": [],
   "source": [
    "# Model1 best fit for this senerio\n"
   ]
  },
  {
   "cell_type": "code",
   "execution_count": null,
   "id": "0a95c847",
   "metadata": {},
   "outputs": [],
   "source": []
  },
  {
   "cell_type": "code",
   "execution_count": null,
   "id": "5b7552ea",
   "metadata": {},
   "outputs": [],
   "source": [
    "# Exercise 4"
   ]
  },
  {
   "cell_type": "code",
   "execution_count": 52,
   "id": "f864ac5b",
   "metadata": {},
   "outputs": [],
   "source": [
    "# You are working as a data scientist for Gives You Paws ™, a subscription based service that shows you cute \n",
    "# pictures of dogs or cats (or both for an additional fee).\n",
    "\n",
    "# At Gives You Paws, anyone can upload pictures of their cats or dogs. The photos are then put through a two step\n",
    "# process. First an automated algorithm tags pictures as either a cat or a dog (Phase I). Next, the photos \n",
    "# that have been initially identified are put through another round of review, possibly with some human oversight,\n",
    "# before being presented to the users (Phase II).\n",
    "\n",
    "# Several models have already been developed with the data, and you can find their results here.\n",
    "\n",
    "# Given this dataset, use pandas to create a baseline model (i.e. a model that just predicts the most common class)\n",
    "# and answer the following questions:\n",
    "\n",
    "# a. In terms of accuracy, how do the various models compare to the baseline model? Are any of the models better\n",
    "#    than the baseline?\n",
    "\n",
    "# b. Suppose you are working on a team that solely deals with dog pictures. Which of these models would you\n",
    "#    recomend for Phase I? For Phase II?\n",
    "\n",
    "# c. Suppose you are working on a team that solely deals with cat pictures. \n",
    "#    Which of these models would you recomend for Phase I? For Phase II?"
   ]
  },
  {
   "cell_type": "code",
   "execution_count": 49,
   "id": "2a2a5f19",
   "metadata": {},
   "outputs": [],
   "source": [
    "# load data\n",
    "\n",
    "df = pd.read_csv('gives_you_paws.csv')"
   ]
  },
  {
   "cell_type": "code",
   "execution_count": 50,
   "id": "90367c60",
   "metadata": {},
   "outputs": [
    {
     "data": {
      "text/html": [
       "<div>\n",
       "<style scoped>\n",
       "    .dataframe tbody tr th:only-of-type {\n",
       "        vertical-align: middle;\n",
       "    }\n",
       "\n",
       "    .dataframe tbody tr th {\n",
       "        vertical-align: top;\n",
       "    }\n",
       "\n",
       "    .dataframe thead th {\n",
       "        text-align: right;\n",
       "    }\n",
       "</style>\n",
       "<table border=\"1\" class=\"dataframe\">\n",
       "  <thead>\n",
       "    <tr style=\"text-align: right;\">\n",
       "      <th></th>\n",
       "      <th>actual</th>\n",
       "      <th>model1</th>\n",
       "      <th>model2</th>\n",
       "      <th>model3</th>\n",
       "      <th>model4</th>\n",
       "    </tr>\n",
       "  </thead>\n",
       "  <tbody>\n",
       "    <tr>\n",
       "      <th>0</th>\n",
       "      <td>cat</td>\n",
       "      <td>cat</td>\n",
       "      <td>dog</td>\n",
       "      <td>cat</td>\n",
       "      <td>dog</td>\n",
       "    </tr>\n",
       "    <tr>\n",
       "      <th>1</th>\n",
       "      <td>dog</td>\n",
       "      <td>dog</td>\n",
       "      <td>cat</td>\n",
       "      <td>cat</td>\n",
       "      <td>dog</td>\n",
       "    </tr>\n",
       "    <tr>\n",
       "      <th>2</th>\n",
       "      <td>dog</td>\n",
       "      <td>cat</td>\n",
       "      <td>cat</td>\n",
       "      <td>cat</td>\n",
       "      <td>dog</td>\n",
       "    </tr>\n",
       "    <tr>\n",
       "      <th>3</th>\n",
       "      <td>dog</td>\n",
       "      <td>dog</td>\n",
       "      <td>dog</td>\n",
       "      <td>cat</td>\n",
       "      <td>dog</td>\n",
       "    </tr>\n",
       "    <tr>\n",
       "      <th>4</th>\n",
       "      <td>cat</td>\n",
       "      <td>cat</td>\n",
       "      <td>cat</td>\n",
       "      <td>dog</td>\n",
       "      <td>dog</td>\n",
       "    </tr>\n",
       "  </tbody>\n",
       "</table>\n",
       "</div>"
      ],
      "text/plain": [
       "  actual model1 model2 model3 model4\n",
       "0    cat    cat    dog    cat    dog\n",
       "1    dog    dog    cat    cat    dog\n",
       "2    dog    cat    cat    cat    dog\n",
       "3    dog    dog    dog    cat    dog\n",
       "4    cat    cat    cat    dog    dog"
      ]
     },
     "execution_count": 50,
     "metadata": {},
     "output_type": "execute_result"
    }
   ],
   "source": [
    "df.head()"
   ]
  },
  {
   "cell_type": "code",
   "execution_count": 51,
   "id": "f73011c1",
   "metadata": {},
   "outputs": [
    {
     "name": "stdout",
     "output_type": "stream",
     "text": [
      "<class 'pandas.core.frame.DataFrame'>\n",
      "RangeIndex: 5000 entries, 0 to 4999\n",
      "Data columns (total 5 columns):\n",
      " #   Column  Non-Null Count  Dtype \n",
      "---  ------  --------------  ----- \n",
      " 0   actual  5000 non-null   object\n",
      " 1   model1  5000 non-null   object\n",
      " 2   model2  5000 non-null   object\n",
      " 3   model3  5000 non-null   object\n",
      " 4   model4  5000 non-null   object\n",
      "dtypes: object(5)\n",
      "memory usage: 195.4+ KB\n"
     ]
    }
   ],
   "source": [
    "df.info()"
   ]
  },
  {
   "cell_type": "code",
   "execution_count": null,
   "id": "3d129e86",
   "metadata": {},
   "outputs": [],
   "source": [
    "# a. In terms of accuracy, how do the various models compare to the baseline model? \n",
    "\n",
    "#    Are any of the models better than the baseline? Model1 has best accuracy"
   ]
  },
  {
   "cell_type": "code",
   "execution_count": 54,
   "id": "c5a920eb",
   "metadata": {},
   "outputs": [],
   "source": [
    "# create baseline\n",
    "\n",
    "df['baseline'] = 'dog'"
   ]
  },
  {
   "cell_type": "code",
   "execution_count": 55,
   "id": "8c025f65",
   "metadata": {},
   "outputs": [
    {
     "data": {
      "text/html": [
       "<div>\n",
       "<style scoped>\n",
       "    .dataframe tbody tr th:only-of-type {\n",
       "        vertical-align: middle;\n",
       "    }\n",
       "\n",
       "    .dataframe tbody tr th {\n",
       "        vertical-align: top;\n",
       "    }\n",
       "\n",
       "    .dataframe thead th {\n",
       "        text-align: right;\n",
       "    }\n",
       "</style>\n",
       "<table border=\"1\" class=\"dataframe\">\n",
       "  <thead>\n",
       "    <tr style=\"text-align: right;\">\n",
       "      <th></th>\n",
       "      <th>actual</th>\n",
       "      <th>model1</th>\n",
       "      <th>model2</th>\n",
       "      <th>model3</th>\n",
       "      <th>model4</th>\n",
       "      <th>baseline</th>\n",
       "    </tr>\n",
       "  </thead>\n",
       "  <tbody>\n",
       "    <tr>\n",
       "      <th>0</th>\n",
       "      <td>cat</td>\n",
       "      <td>cat</td>\n",
       "      <td>dog</td>\n",
       "      <td>cat</td>\n",
       "      <td>dog</td>\n",
       "      <td>dog</td>\n",
       "    </tr>\n",
       "    <tr>\n",
       "      <th>1</th>\n",
       "      <td>dog</td>\n",
       "      <td>dog</td>\n",
       "      <td>cat</td>\n",
       "      <td>cat</td>\n",
       "      <td>dog</td>\n",
       "      <td>dog</td>\n",
       "    </tr>\n",
       "    <tr>\n",
       "      <th>2</th>\n",
       "      <td>dog</td>\n",
       "      <td>cat</td>\n",
       "      <td>cat</td>\n",
       "      <td>cat</td>\n",
       "      <td>dog</td>\n",
       "      <td>dog</td>\n",
       "    </tr>\n",
       "    <tr>\n",
       "      <th>3</th>\n",
       "      <td>dog</td>\n",
       "      <td>dog</td>\n",
       "      <td>dog</td>\n",
       "      <td>cat</td>\n",
       "      <td>dog</td>\n",
       "      <td>dog</td>\n",
       "    </tr>\n",
       "    <tr>\n",
       "      <th>4</th>\n",
       "      <td>cat</td>\n",
       "      <td>cat</td>\n",
       "      <td>cat</td>\n",
       "      <td>dog</td>\n",
       "      <td>dog</td>\n",
       "      <td>dog</td>\n",
       "    </tr>\n",
       "  </tbody>\n",
       "</table>\n",
       "</div>"
      ],
      "text/plain": [
       "  actual model1 model2 model3 model4 baseline\n",
       "0    cat    cat    dog    cat    dog      dog\n",
       "1    dog    dog    cat    cat    dog      dog\n",
       "2    dog    cat    cat    cat    dog      dog\n",
       "3    dog    dog    dog    cat    dog      dog\n",
       "4    cat    cat    cat    dog    dog      dog"
      ]
     },
     "execution_count": 55,
     "metadata": {},
     "output_type": "execute_result"
    }
   ],
   "source": [
    "df.head()"
   ]
  },
  {
   "cell_type": "code",
   "execution_count": 56,
   "id": "b97ff9eb",
   "metadata": {},
   "outputs": [
    {
     "data": {
      "text/plain": [
       "dog    3254\n",
       "cat    1746\n",
       "Name: actual, dtype: int64"
      ]
     },
     "execution_count": 56,
     "metadata": {},
     "output_type": "execute_result"
    }
   ],
   "source": [
    "# get actual count\n",
    "\n",
    "df.actual.value_counts()"
   ]
  },
  {
   "cell_type": "code",
   "execution_count": 60,
   "id": "4ef5690a",
   "metadata": {},
   "outputs": [],
   "source": [
    "# compare accuracy"
   ]
  },
  {
   "cell_type": "code",
   "execution_count": 66,
   "id": "7619a96c",
   "metadata": {},
   "outputs": [
    {
     "data": {
      "text/plain": [
       "0.6508"
      ]
     },
     "execution_count": 66,
     "metadata": {},
     "output_type": "execute_result"
    }
   ],
   "source": [
    "(df.actual == df.baseline).mean()"
   ]
  },
  {
   "cell_type": "code",
   "execution_count": 61,
   "id": "6b3e90de",
   "metadata": {},
   "outputs": [
    {
     "data": {
      "text/plain": [
       "0.8074"
      ]
     },
     "execution_count": 61,
     "metadata": {},
     "output_type": "execute_result"
    }
   ],
   "source": [
    "(df.actual == df.model1).mean()"
   ]
  },
  {
   "cell_type": "code",
   "execution_count": 62,
   "id": "f604f848",
   "metadata": {},
   "outputs": [
    {
     "data": {
      "text/plain": [
       "0.6304"
      ]
     },
     "execution_count": 62,
     "metadata": {},
     "output_type": "execute_result"
    }
   ],
   "source": [
    "(df.actual == df.model2).mean()"
   ]
  },
  {
   "cell_type": "code",
   "execution_count": 63,
   "id": "a649c2ae",
   "metadata": {},
   "outputs": [
    {
     "data": {
      "text/plain": [
       "0.5096"
      ]
     },
     "execution_count": 63,
     "metadata": {},
     "output_type": "execute_result"
    }
   ],
   "source": [
    "(df.actual == df.model3).mean()"
   ]
  },
  {
   "cell_type": "code",
   "execution_count": 64,
   "id": "09b1d717",
   "metadata": {},
   "outputs": [
    {
     "data": {
      "text/plain": [
       "0.7426"
      ]
     },
     "execution_count": 64,
     "metadata": {},
     "output_type": "execute_result"
    }
   ],
   "source": [
    "(df.actual == df.model4).mean()"
   ]
  },
  {
   "cell_type": "code",
   "execution_count": 98,
   "id": "a8b8b1d6",
   "metadata": {},
   "outputs": [],
   "source": [
    "# b. Suppose you are working on a team that solely deals with dog pictures. \n",
    "\n",
    "# Which of these models would you recomend for Phase I? accuracy\n",
    "\n",
    "# For Phase II? precision"
   ]
  },
  {
   "cell_type": "code",
   "execution_count": 99,
   "id": "78fe70f2",
   "metadata": {},
   "outputs": [
    {
     "data": {
      "text/plain": [
       "0.8074"
      ]
     },
     "execution_count": 99,
     "metadata": {},
     "output_type": "execute_result"
    }
   ],
   "source": [
    "# find the accuracy \n",
    "\n",
    "accuracy_model1 = (df.actual == df.model1).mean()\n",
    "accuracy_model1"
   ]
  },
  {
   "cell_type": "code",
   "execution_count": 100,
   "id": "27370460",
   "metadata": {},
   "outputs": [
    {
     "data": {
      "text/plain": [
       "0.6304"
      ]
     },
     "execution_count": 100,
     "metadata": {},
     "output_type": "execute_result"
    }
   ],
   "source": [
    "accuracy_model2 = (df.actual == df.model2).mean()\n",
    "accuracy_model2"
   ]
  },
  {
   "cell_type": "code",
   "execution_count": 101,
   "id": "5efceba1",
   "metadata": {},
   "outputs": [
    {
     "data": {
      "text/plain": [
       "0.5096"
      ]
     },
     "execution_count": 101,
     "metadata": {},
     "output_type": "execute_result"
    }
   ],
   "source": [
    "accuracy_model3 = (df.actual == df.model3).mean()\n",
    "accuracy_model3"
   ]
  },
  {
   "cell_type": "code",
   "execution_count": 102,
   "id": "2d1a454b",
   "metadata": {},
   "outputs": [
    {
     "data": {
      "text/plain": [
       "0.7426"
      ]
     },
     "execution_count": 102,
     "metadata": {},
     "output_type": "execute_result"
    }
   ],
   "source": [
    "accuracy_model4 = (df.actual == df.model4).mean()\n",
    "accuracy_model4"
   ]
  },
  {
   "cell_type": "code",
   "execution_count": 103,
   "id": "5b4e753b",
   "metadata": {},
   "outputs": [],
   "source": [
    "# create subset\n",
    "\n",
    "positive = 'dog'\n",
    "\n",
    "subset = df[df.actual == positive]"
   ]
  },
  {
   "cell_type": "code",
   "execution_count": 104,
   "id": "2eb18bd3",
   "metadata": {},
   "outputs": [
    {
     "data": {
      "text/plain": [
       "0.803318992009834"
      ]
     },
     "execution_count": 104,
     "metadata": {},
     "output_type": "execute_result"
    }
   ],
   "source": [
    "recall_model1 = (subset.actual == subset.model1).mean() \n",
    "recall_model1"
   ]
  },
  {
   "cell_type": "code",
   "execution_count": 105,
   "id": "6aa6790e",
   "metadata": {},
   "outputs": [
    {
     "data": {
      "text/plain": [
       "0.49078057775046097"
      ]
     },
     "execution_count": 105,
     "metadata": {},
     "output_type": "execute_result"
    }
   ],
   "source": [
    "recall_model2 = (subset.actual == subset.model2).mean()\n",
    "recall_model2"
   ]
  },
  {
   "cell_type": "code",
   "execution_count": 106,
   "id": "9ced05fd",
   "metadata": {},
   "outputs": [
    {
     "data": {
      "text/plain": [
       "0.5086047940995697"
      ]
     },
     "execution_count": 106,
     "metadata": {},
     "output_type": "execute_result"
    }
   ],
   "source": [
    "recall_model3 = (subset.actual == subset.model3).mean()\n",
    "recall_model3"
   ]
  },
  {
   "cell_type": "code",
   "execution_count": 107,
   "id": "374880a7",
   "metadata": {},
   "outputs": [
    {
     "data": {
      "text/plain": [
       "0.9557467732022127"
      ]
     },
     "execution_count": 107,
     "metadata": {},
     "output_type": "execute_result"
    }
   ],
   "source": [
    "recall_model4 = (subset.actual == subset.model4).mean()\n",
    "recall_model4"
   ]
  },
  {
   "cell_type": "code",
   "execution_count": null,
   "id": "aa696f24",
   "metadata": {},
   "outputs": [],
   "source": [
    "\n",
    "# c. Suppose you are working on a team that solely deals with cat pictures. \n",
    "\n",
    "# Which of these models would you recomend for Phase I? accuracy\n",
    "\n",
    "# For Phase II? recall"
   ]
  },
  {
   "cell_type": "code",
   "execution_count": 89,
   "id": "7e675465",
   "metadata": {},
   "outputs": [],
   "source": [
    "# set positive case \n",
    "\n",
    "positive = 'cat'\n",
    "\n",
    "# create subset for every model where it equals the positive\n",
    "\n",
    "subset = df[df.baseline == positive]\n",
    "subset_1 = df[df.model1 == positive]\n",
    "subset_2 = df[df.model2 == positive]\n",
    "subset_3 = df[df.model3 == positive]\n",
    "subset_4 = df[df.model4 == positive]"
   ]
  },
  {
   "cell_type": "code",
   "execution_count": 90,
   "id": "e074b1f3",
   "metadata": {},
   "outputs": [
    {
     "data": {
      "text/plain": [
       "nan"
      ]
     },
     "execution_count": 90,
     "metadata": {},
     "output_type": "execute_result"
    }
   ],
   "source": [
    "# calculate precision using each subset dataframe\n",
    "\n",
    "precision = (subset.actual == subset.baseline).mean()\n",
    "precision"
   ]
  },
  {
   "cell_type": "code",
   "execution_count": 91,
   "id": "3e07dbc6",
   "metadata": {},
   "outputs": [
    {
     "data": {
      "text/plain": [
       "0.6897721764420747"
      ]
     },
     "execution_count": 91,
     "metadata": {},
     "output_type": "execute_result"
    }
   ],
   "source": [
    "precision1 = (subset_1.actual == subset_1.model1).mean()\n",
    "precision1"
   ]
  },
  {
   "cell_type": "code",
   "execution_count": 92,
   "id": "e49ce954",
   "metadata": {},
   "outputs": [
    {
     "data": {
      "text/plain": [
       "0.4841220423412204"
      ]
     },
     "execution_count": 92,
     "metadata": {},
     "output_type": "execute_result"
    }
   ],
   "source": [
    "precision2 = (subset_2.actual == subset_2.model2).mean()\n",
    "precision2"
   ]
  },
  {
   "cell_type": "code",
   "execution_count": 93,
   "id": "2f926b0d",
   "metadata": {},
   "outputs": [
    {
     "data": {
      "text/plain": [
       "0.358346709470305"
      ]
     },
     "execution_count": 93,
     "metadata": {},
     "output_type": "execute_result"
    }
   ],
   "source": [
    "precision3 = (subset_3.actual == subset_3.model3).mean()\n",
    "precision3"
   ]
  },
  {
   "cell_type": "code",
   "execution_count": 94,
   "id": "dccb31b4",
   "metadata": {},
   "outputs": [
    {
     "data": {
      "text/plain": [
       "0.8072289156626506"
      ]
     },
     "execution_count": 94,
     "metadata": {},
     "output_type": "execute_result"
    }
   ],
   "source": [
    "precision4 = (subset_4.actual == subset_4.model4).mean()\n",
    "precision4"
   ]
  },
  {
   "cell_type": "code",
   "execution_count": null,
   "id": "e74892d2",
   "metadata": {},
   "outputs": [],
   "source": []
  },
  {
   "cell_type": "code",
   "execution_count": null,
   "id": "60df5a0b",
   "metadata": {},
   "outputs": [],
   "source": [
    "# Exercise 5"
   ]
  },
  {
   "cell_type": "code",
   "execution_count": null,
   "id": "369cd26b",
   "metadata": {},
   "outputs": [],
   "source": [
    "# Follow the links below to read the documentation about each function, then apply those functions to the data\n",
    "# from the previous problem.\n",
    "\n",
    "# sklearn.metrics.accuracy_score\n",
    "# sklearn.metrics.precision_score\n",
    "# sklearn.metrics.recall_score\n",
    "# sklearn.metrics.classification_report\n"
   ]
  },
  {
   "cell_type": "code",
   "execution_count": 108,
   "id": "b372cb94",
   "metadata": {},
   "outputs": [],
   "source": [
    "from sklearn.metrics import accuracy_score\n",
    "from sklearn.metrics import precision_score\n",
    "from sklearn.metrics import recall_score\n",
    "from sklearn.metrics import classification_report\n"
   ]
  },
  {
   "cell_type": "code",
   "execution_count": 109,
   "id": "82cbe7df",
   "metadata": {},
   "outputs": [],
   "source": [
    "# sklearn.metrics.accuracy_score\n",
    "\n",
    "accuracysk_model1 = accuracy_score(df.actual, df.model1)\n",
    "accuracysk_model2 = accuracy_score(df.actual, df.model2)\n",
    "accuracysk_model3 = accuracy_score(df.actual, df.model3)\n",
    "accuracysk_model4 = accuracy_score(df.actual, df.model4)"
   ]
  },
  {
   "cell_type": "code",
   "execution_count": 110,
   "id": "cb3c37c2",
   "metadata": {},
   "outputs": [
    {
     "name": "stdout",
     "output_type": "stream",
     "text": [
      "Accuracy rate for model1 is 80.74%\n",
      "Accuracy rate for model2 is 63.04%\n",
      "Accuracy rate for model3 is 50.96%\n",
      "Accuracy rate for model4 is 74.26%\n"
     ]
    }
   ],
   "source": [
    "print(f'Accuracy rate for model1 is{accuracysk_model1: .2%}')\n",
    "print(f'Accuracy rate for model2 is{accuracysk_model2: .2%}')\n",
    "print(f'Accuracy rate for model3 is{accuracysk_model3: .2%}')\n",
    "print(f'Accuracy rate for model4 is{accuracysk_model4: .2%}')"
   ]
  },
  {
   "cell_type": "code",
   "execution_count": 111,
   "id": "c93e5209",
   "metadata": {},
   "outputs": [],
   "source": [
    "# sklearn.metrics.precision_score\n",
    "\n",
    "precisionsk_model1 = precision_score(df.actual, df.model1, pos_label = 'dog')\n",
    "precisionsk_model2 = precision_score(df.actual, df.model2, pos_label = 'dog')\n",
    "precisionsk_model3 = precision_score(df.actual, df.model3, pos_label = 'dog')\n",
    "precisionsk_model4 = precision_score(df.actual, df.model4, pos_label = 'dog')"
   ]
  },
  {
   "cell_type": "code",
   "execution_count": 112,
   "id": "f22f0e25",
   "metadata": {},
   "outputs": [
    {
     "name": "stdout",
     "output_type": "stream",
     "text": [
      "Precision rate for model1 is 89.00%\n",
      "Precision rate for model2 is 89.32%\n",
      "Precision rate for model3 is 65.99%\n",
      "Precision rate for model4 is 73.12%\n"
     ]
    }
   ],
   "source": [
    "print(f'Precision rate for model1 is{precisionsk_model1: .2%}')\n",
    "print(f'Precision rate for model2 is{precisionsk_model2: .2%}')\n",
    "print(f'Precision rate for model3 is{precisionsk_model3: .2%}')\n",
    "print(f'Precision rate for model4 is{precisionsk_model4: .2%}')"
   ]
  },
  {
   "cell_type": "code",
   "execution_count": 113,
   "id": "d60421b6",
   "metadata": {},
   "outputs": [],
   "source": [
    "# sklearn.metrics.recall_score\n",
    "\n",
    "recallsk_model1 = recall_score(df.actual, df.model1, pos_label = 'dog')\n",
    "recallsk_model2 = recall_score(df.actual, df.model2, pos_label = 'dog')\n",
    "recallsk_model3 = recall_score(df.actual, df.model3, pos_label = 'dog')\n",
    "recallsk_model4 = recall_score(df.actual, df.model4, pos_label = 'dog')"
   ]
  },
  {
   "cell_type": "code",
   "execution_count": 114,
   "id": "712b2d78",
   "metadata": {},
   "outputs": [
    {
     "name": "stdout",
     "output_type": "stream",
     "text": [
      "Recall rate for model1 is 80.33%\n",
      "Recall rate for model2 is 49.08%\n",
      "Recall rate for model3 is 50.86%\n",
      "Recall rate for model4 is 95.57%\n"
     ]
    }
   ],
   "source": [
    "print(f'Recall rate for model1 is{recallsk_model1: .2%}')\n",
    "print(f'Recall rate for model2 is{recallsk_model2: .2%}')\n",
    "print(f'Recall rate for model3 is{recallsk_model3: .2%}')\n",
    "print(f'Recall rate for model4 is{recallsk_model4: .2%}')"
   ]
  },
  {
   "cell_type": "code",
   "execution_count": 118,
   "id": "a83ce1c7",
   "metadata": {},
   "outputs": [],
   "source": [
    "# sklearn.metrics.classification_report\n",
    "\n",
    "classsk_model1 = classification_report(df.actual, df.model1)\n",
    "classsk_model2 = classification_report(df.actual, df.model2)\n",
    "classsk_model3 = classification_report(df.actual, df.model3)\n",
    "classsk_model4 = classification_report(df.actual, df.model4)"
   ]
  },
  {
   "cell_type": "code",
   "execution_count": 123,
   "id": "394c84be",
   "metadata": {},
   "outputs": [
    {
     "name": "stdout",
     "output_type": "stream",
     "text": [
      "Classification report for model1 is :              precision    recall  f1-score   support\n",
      "\n",
      "         cat       0.69      0.82      0.75      1746\n",
      "         dog       0.89      0.80      0.84      3254\n",
      "\n",
      "    accuracy                           0.81      5000\n",
      "   macro avg       0.79      0.81      0.80      5000\n",
      "weighted avg       0.82      0.81      0.81      5000\n",
      "\n",
      "Classification report for model2 is :              precision    recall  f1-score   support\n",
      "\n",
      "         cat       0.48      0.89      0.63      1746\n",
      "         dog       0.89      0.49      0.63      3254\n",
      "\n",
      "    accuracy                           0.63      5000\n",
      "   macro avg       0.69      0.69      0.63      5000\n",
      "weighted avg       0.75      0.63      0.63      5000\n",
      "\n",
      "Classification report for model3 is :              precision    recall  f1-score   support\n",
      "\n",
      "         cat       0.36      0.51      0.42      1746\n",
      "         dog       0.66      0.51      0.57      3254\n",
      "\n",
      "    accuracy                           0.51      5000\n",
      "   macro avg       0.51      0.51      0.50      5000\n",
      "weighted avg       0.55      0.51      0.52      5000\n",
      "\n",
      "Classification report for model4 is :              precision    recall  f1-score   support\n",
      "\n",
      "         cat       0.81      0.35      0.48      1746\n",
      "         dog       0.73      0.96      0.83      3254\n",
      "\n",
      "    accuracy                           0.74      5000\n",
      "   macro avg       0.77      0.65      0.66      5000\n",
      "weighted avg       0.76      0.74      0.71      5000\n",
      "\n"
     ]
    }
   ],
   "source": [
    "print(f'Classification report for model1 is :{classsk_model1}')\n",
    "print(f'Classification report for model2 is :{classsk_model2}')\n",
    "print(f'Classification report for model3 is :{classsk_model3}')\n",
    "print(f'Classification report for model4 is :{classsk_model4}')"
   ]
  },
  {
   "cell_type": "code",
   "execution_count": null,
   "id": "be35d47a",
   "metadata": {},
   "outputs": [],
   "source": []
  }
 ],
 "metadata": {
  "kernelspec": {
   "display_name": "Python 3",
   "language": "python",
   "name": "python3"
  },
  "language_info": {
   "codemirror_mode": {
    "name": "ipython",
    "version": 3
   },
   "file_extension": ".py",
   "mimetype": "text/x-python",
   "name": "python",
   "nbconvert_exporter": "python",
   "pygments_lexer": "ipython3",
   "version": "3.8.8"
  }
 },
 "nbformat": 4,
 "nbformat_minor": 5
}
